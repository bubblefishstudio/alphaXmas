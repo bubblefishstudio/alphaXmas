{
  "nbformat": 4,
  "nbformat_minor": 0,
  "metadata": {
    "accelerator": "GPU",
    "colab": {
      "name": "RNN Model Test.ipynb",
      "provenance": [],
      "collapsed_sections": [],
      "toc_visible": true
    },
    "kernelspec": {
      "display_name": "Python 3",
      "name": "python3"
    }
  },
  "cells": [
    {
      "cell_type": "markdown",
      "metadata": {
        "id": "gTbQaz7P4u94"
      },
      "source": [
        "# Music Generation Using RNN"
      ]
    },
    {
      "cell_type": "code",
      "metadata": {
        "id": "bP0iP1Oz4w5J"
      },
      "source": [
        "import os\n",
        "import numpy as np\n",
        "import tensorflow as tf\n",
        "import matplotlib.pyplot as plt\n",
        "import music21 as m21\n",
        "\n",
        "from tqdm.notebook import tqdm\n",
        "from pathlib import Path\n",
        "%matplotlib inline"
      ],
      "execution_count": 1,
      "outputs": []
    },
    {
      "cell_type": "code",
      "metadata": {
        "colab": {
          "base_uri": "https://localhost:8080/"
        },
        "id": "atqBy8yq3onq",
        "outputId": "e19ed578-9998-4494-9c92-a9b0b270fec3"
      },
      "source": [
        "print(tf.__version__)"
      ],
      "execution_count": 2,
      "outputs": [
        {
          "output_type": "stream",
          "name": "stdout",
          "text": [
            "2.6.0\n"
          ]
        }
      ]
    },
    {
      "cell_type": "markdown",
      "metadata": {
        "id": "BjWr4Ksn9i5X"
      },
      "source": [
        "## Prepare DataSet"
      ]
    },
    {
      "cell_type": "code",
      "metadata": {
        "id": "PFfGbMzD9lYw"
      },
      "source": [
        "!wget https://www.dropbox.com/s/n8ovgqivgzpxkla/carol_melodies.pkl?dl=1 -O carol_melodies.pkl -o /dev/null"
      ],
      "execution_count": 3,
      "outputs": []
    },
    {
      "cell_type": "code",
      "metadata": {
        "colab": {
          "base_uri": "https://localhost:8080/"
        },
        "id": "ie55XH0Qsqb8",
        "outputId": "d9511261-9b2f-47b5-de2e-26a844ac9bdd"
      },
      "source": [
        "import pickle\n",
        "# this pieces are 4/4, transposed to C and trimmed empty measures\n",
        "# but they contain every range (octave) so they should be filtered (e.g. pick treble clef only)\n",
        "songs = pickle.load(open(\"carol_melodies.pkl\", \"rb\")) # we will work only with 4/4 pieces\n",
        "len(songs)"
      ],
      "execution_count": 4,
      "outputs": [
        {
          "output_type": "execute_result",
          "data": {
            "text/plain": [
              "2433"
            ]
          },
          "metadata": {},
          "execution_count": 4
        }
      ]
    },
    {
      "cell_type": "markdown",
      "metadata": {
        "id": "fu9yQ5azJkwF"
      },
      "source": [
        "### Filter dataset"
      ]
    },
    {
      "cell_type": "code",
      "metadata": {
        "id": "VYDx5lmOusav"
      },
      "source": [
        " def treble_best_fit(seq):\n",
        "    P = lambda x: m21.pitch.Pitch(x).midi\n",
        "    def compensate_note(note):\n",
        "        if note > P(\"A4\"):\n",
        "            return note + 3\n",
        "        if note < P(\"F3\"):\n",
        "            return note - 3\n",
        "        return note\n",
        "    notes = [x[0] for x in seq if x[0] is not None]\n",
        "    mid = np.mean(notes)\n",
        "    return mid > P(\"B3\") and mid < P(\"E5\")"
      ],
      "execution_count": 5,
      "outputs": []
    },
    {
      "cell_type": "code",
      "metadata": {
        "colab": {
          "base_uri": "https://localhost:8080/"
        },
        "id": "fFDGDpphuvfx",
        "outputId": "87b3623f-130a-4cf4-b90a-bde1afcfcaf2"
      },
      "source": [
        "selected_songs = [x for x in songs if treble_best_fit(x) and len(x) < 100 and len(x) > 20]\n",
        "len(selected_songs)"
      ],
      "execution_count": 6,
      "outputs": [
        {
          "output_type": "execute_result",
          "data": {
            "text/plain": [
              "968"
            ]
          },
          "metadata": {},
          "execution_count": 6
        }
      ]
    },
    {
      "cell_type": "markdown",
      "metadata": {
        "id": "Gd5kZlOpAUQn"
      },
      "source": [
        "### Some analysis on filtered data"
      ]
    },
    {
      "cell_type": "code",
      "metadata": {
        "colab": {
          "base_uri": "https://localhost:8080/"
        },
        "id": "lGg0EvX-zl25",
        "outputId": "435edc44-0056-4d07-a839-0aae5365c647"
      },
      "source": [
        "pitches = sorted(set([note[0] for song in selected_songs for note in song if note[0] is not None]))\n",
        "print(\"N. of pitches:\", len(pitches))\n",
        "print(\"lowest: \", pitches[0], m21.pitch.Pitch(midi=pitches[0]))\n",
        "print(\"highest:\", pitches[-1], m21.pitch.Pitch(midi=pitches[-1]))"
      ],
      "execution_count": 7,
      "outputs": [
        {
          "output_type": "stream",
          "name": "stdout",
          "text": [
            "N. of pitches: 33\n",
            "lowest:  48 C3\n",
            "highest: 83 B5\n"
          ]
        }
      ]
    },
    {
      "cell_type": "code",
      "metadata": {
        "colab": {
          "base_uri": "https://localhost:8080/",
          "height": 281
        },
        "id": "2-yGKsF005ut",
        "outputId": "498ceadf-9c3e-4294-c85d-6b45387c496e"
      },
      "source": [
        "plt.hist([note[0] for song in selected_songs for note in song if note[0] is not None], bins=88);\n",
        "plt.title(\"Pitch distribution (midi values)\");"
      ],
      "execution_count": 8,
      "outputs": [
        {
          "output_type": "display_data",
          "data": {
            "image/png": "[encoded data removed]",
            "text/plain": [
              "<Figure size 432x288 with 1 Axes>"
            ]
          },
          "metadata": {
            "needs_background": "light"
          }
        }
      ]
    },
    {
      "cell_type": "code",
      "metadata": {
        "colab": {
          "base_uri": "https://localhost:8080/",
          "height": 280
        },
        "id": "ViMup3We1eQr",
        "outputId": "a5a52ec6-eac2-4b28-8df6-a1c1ec42b37e"
      },
      "source": [
        "plt.hist([float(note[1]) for song in selected_songs for note in song], bins=88);\n",
        "plt.title(\"Duration distribution\");"
      ],
      "execution_count": 9,
      "outputs": [
        {
          "output_type": "display_data",
          "data": {
            "image/png": "[encoded data removed]",
            "text/plain": [
              "<Figure size 432x288 with 1 Axes>"
            ]
          },
          "metadata": {
            "image/png": {
              "width": 388,
              "height": 263
            },
            "needs_background": "light"
          }
        }
      ]
    },
    {
      "cell_type": "code",
      "metadata": {
        "colab": {
          "base_uri": "https://localhost:8080/",
          "height": 280
        },
        "id": "v5cKQ3M6Al27",
        "outputId": "ecc82ddd-77de-4b98-a879-17a3066c6cfd"
      },
      "source": [
        "plt.hist([len(song) for song in selected_songs]);\n",
        "plt.title(\"Length distribution\");"
      ],
      "execution_count": 10,
      "outputs": [
        {
          "output_type": "display_data",
          "data": {
            "image/png": "[encoded data removed]",
            "text/plain": [
              "<Figure size 432x288 with 1 Axes>"
            ]
          },
          "metadata": {
            "image/png": {
              "width": 375,
              "height": 263
            },
            "needs_background": "light"
          }
        }
      ]
    },
    {
      "cell_type": "markdown",
      "metadata": {
        "id": "8hl4ATBWAbRR"
      },
      "source": [
        "### Vectorization"
      ]
    },
    {
      "cell_type": "code",
      "metadata": {
        "colab": {
          "base_uri": "https://localhost:8080/"
        },
        "id": "qGbg0m4h52AX",
        "outputId": "2d56cc99-31f5-4a1c-dd1f-5db771e1f65f"
      },
      "source": [
        "pitch_vocab = sorted(set((note[0] for song in selected_songs for note in song)), key=lambda x: -1 if x is None else x)\n",
        "dur_vocab = sorted(set((note[1] for song in selected_songs for note in song)))\n",
        "pitch_inverse_vocab = {v:i+1 for i,v in enumerate(pitch_vocab)} # shift is because \"0\" means padding\n",
        "dur_inverse_vocab = {v:i+1 for i,v in enumerate(dur_vocab)} # shift is because \"0\" means padding\n",
        "print(f\"Unique elements in vocabulary:\\npitches {len(pitch_vocab)}\\ndurations {len(dur_vocab)}\")\n",
        "\n",
        "def vec2mus(vec):\n",
        "    note_spec = [(pitch_vocab[i-1], dur_vocab[j-1]) for i,j in vec] # shift is because \"0\" means padding\n",
        "    stream = m21.stream.Stream()\n",
        "    for pitch, dur in note_spec:\n",
        "        if pitch is not None:\n",
        "            note = note = m21.note.Note(midi=pitch, quarterLength=dur)\n",
        "        else:\n",
        "            note = m21.note.Rest(quarterLength=dur)\n",
        "        stream.append(note)\n",
        "    return stream\n",
        "\n",
        "def notespec2vec(note_spec):\n",
        "    return np.array([[pitch_inverse_vocab[p], dur_inverse_vocab[d]] for p,d in note_spec], dtype=int)\n",
        "\n",
        "vec_songs = tf.ragged.constant([notespec2vec(song) for song in selected_songs], inner_shape=(2,))\n",
        "print(vec_songs.shape)"
      ],
      "execution_count": 11,
      "outputs": [
        {
          "output_type": "stream",
          "name": "stdout",
          "text": [
            "Unique elements in vocabulary:\n",
            "pitches 34\n",
            "durations 29\n",
            "(968, None, 2)\n"
          ]
        }
      ]
    },
    {
      "cell_type": "code",
      "metadata": {
        "colab": {
          "base_uri": "https://localhost:8080/",
          "height": 37
        },
        "id": "baP__j2I9Ruo",
        "outputId": "50d4a5ca-4392-4f58-fc8c-f716ce62e376"
      },
      "source": [
        "vec2mus(vec_songs[-27]).write(\"midi\", fp=\"in.midi\") # not working.. why??"
      ],
      "execution_count": 12,
      "outputs": [
        {
          "output_type": "execute_result",
          "data": {
            "application/vnd.google.colaboratory.intrinsic+json": {
              "type": "string"
            },
            "text/plain": [
              "'in.midi'"
            ]
          },
          "metadata": {},
          "execution_count": 12
        }
      ]
    },
    {
      "cell_type": "markdown",
      "metadata": {
        "id": "wJImE6h5sV9y"
      },
      "source": [
        "Training and target data:"
      ]
    },
    {
      "cell_type": "code",
      "metadata": {
        "id": "xMM872g6sZAf"
      },
      "source": [
        "X = tf.unstack(vec_songs[:, :-1, :].to_tensor(default_value=0), axis=-1)\n",
        "y = tf.unstack(vec_songs[:, 1:, :].to_tensor(default_value=0), axis=-1)"
      ],
      "execution_count": 13,
      "outputs": []
    },
    {
      "cell_type": "code",
      "metadata": {
        "colab": {
          "base_uri": "https://localhost:8080/"
        },
        "id": "a_nHjlno2_iQ",
        "outputId": "796c5d5d-8eb9-42b6-d7de-58b03bf5989e"
      },
      "source": [
        "print(X[0].shape)\n",
        "print(y[1].shape)"
      ],
      "execution_count": 14,
      "outputs": [
        {
          "output_type": "stream",
          "name": "stdout",
          "text": [
            "(968, 98)\n",
            "(968, 98)\n"
          ]
        }
      ]
    },
    {
      "cell_type": "markdown",
      "metadata": {
        "id": "WdYrxRHk9mgJ"
      },
      "source": [
        "## Train Model"
      ]
    },
    {
      "cell_type": "markdown",
      "metadata": {
        "id": "x70cqzroTRQg"
      },
      "source": [
        "Model definition"
      ]
    },
    {
      "cell_type": "code",
      "metadata": {
        "id": "RZmvC_M49s7Y"
      },
      "source": [
        "def build_model(rnn_units, filters, kernel_size, pitch_vocab_size, dur_vocab_size, emb_dim=64, batch_size=64):\n",
        "    inp_p = tf.keras.layers.Input(shape=(None,), name=\"input_pitch\")\n",
        "    inp_d = tf.keras.layers.Input(shape=(None,), name=\"input_duration\")\n",
        "    emb_p = tf.keras.layers.Embedding(pitch_vocab_size+1, emb_dim, mask_zero=True)(inp_p)\n",
        "    emb_d = tf.keras.layers.Embedding(dur_vocab_size+1, emb_dim, mask_zero=True)(inp_d)\n",
        "    #conv_p = tf.keras.layers.Conv1D(filters, kernel_size, padding=\"causal\")\n",
        "    #conv_d = tf.keras.layers.Conv1D(filters, kernel_size, padding=\"causal\")\n",
        "    #conv_p.supports_https://bugs.telegram.org/masking = True\n",
        "    #conv_d.supports_masking = True\n",
        "    all_feats = tf.keras.layers.concatenate([emb_p, emb_d])\n",
        "    lstm = tf.keras.layers.LSTM(\n",
        "        rnn_units,\n",
        "        return_sequences=True,\n",
        "        recurrent_initializer='glorot_uniform',\n",
        "        recurrent_activation='sigmoid',\n",
        "        #stateful=True,\n",
        "    )(all_feats)\n",
        "    dense_pitch = tf.keras.layers.Dense(pitch_vocab_size+1, name=\"pitch\")(lstm)\n",
        "    dense_dur = tf.keras.layers.Dense(dur_vocab_size+1, name=\"duration\")(lstm)\n",
        "    return tf.keras.Model(inputs=[inp_p, inp_d], outputs=[dense_pitch, dense_dur])"
      ],
      "execution_count": 15,
      "outputs": []
    },
    {
      "cell_type": "markdown",
      "metadata": {
        "id": "MU5OQkSeTb2q"
      },
      "source": [
        "Training parameters"
      ]
    },
    {
      "cell_type": "code",
      "metadata": {
        "id": "GjjaBVJdTQlx",
        "colab": {
          "base_uri": "https://localhost:8080/"
        },
        "outputId": "7d136c41-a51d-43b3-da50-0a6368200375"
      },
      "source": [
        "# Optimization parameters:\n",
        "num_training_iterations = 100  # Increase this to train longer\n",
        "batch_size = 64  # Experiment between 1 and 64\n",
        "learning_rate = 5e-3 # Experiment between 1e-5 and 1e-1\n",
        "\n",
        "# Model parameters:\n",
        "rnn_units = 1024 # Experiment between 1 and 2048\n",
        "filters = 32\n",
        "kernel_size = 4\n",
        "emb_dim = 512\n",
        "\n",
        "# Checkpoint location:\n",
        "checkpoint_dir = './training_checkpoints'\n",
        "checkpoint_prefix = os.path.join(checkpoint_dir, \"my_ckpt_w\")\n",
        "\n",
        "build_model(rnn_units, filters, kernel_size, len(pitch_vocab), len(dur_vocab), emb_dim, None).summary()"
      ],
      "execution_count": 16,
      "outputs": [
        {
          "output_type": "stream",
          "name": "stdout",
          "text": [
            "Model: \"model\"\n",
            "__________________________________________________________________________________________________\n",
            "Layer (type)                    Output Shape         Param #     Connected to                     \n",
            "==================================================================================================\n",
            "input_pitch (InputLayer)        [(None, None)]       0                                            \n",
            "__________________________________________________________________________________________________\n",
            "input_duration (InputLayer)     [(None, None)]       0                                            \n",
            "__________________________________________________________________________________________________\n",
            "embedding (Embedding)           (None, None, 512)    17920       input_pitch[0][0]                \n",
            "__________________________________________________________________________________________________\n",
            "embedding_1 (Embedding)         (None, None, 512)    15360       input_duration[0][0]             \n",
            "__________________________________________________________________________________________________\n",
            "concatenate (Concatenate)       (None, None, 1024)   0           embedding[0][0]                  \n",
            "                                                                 embedding_1[0][0]                \n",
            "__________________________________________________________________________________________________\n",
            "lstm (LSTM)                     (None, None, 1024)   8392704     concatenate[0][0]                \n",
            "__________________________________________________________________________________________________\n",
            "pitch (Dense)                   (None, None, 35)     35875       lstm[0][0]                       \n",
            "__________________________________________________________________________________________________\n",
            "duration (Dense)                (None, None, 30)     30750       lstm[0][0]                       \n",
            "==================================================================================================\n",
            "Total params: 8,492,609\n",
            "Trainable params: 8,492,609\n",
            "Non-trainable params: 0\n",
            "__________________________________________________________________________________________________\n"
          ]
        }
      ]
    },
    {
      "cell_type": "markdown",
      "metadata": {
        "id": "hx5Tr1mRUS6J"
      },
      "source": [
        "Train model"
      ]
    },
    {
      "cell_type": "code",
      "metadata": {
        "id": "lKSCAwiFt6Za"
      },
      "source": [
        "from IPython.display import clear_output\n",
        "\n",
        "class HistoryPlotter(tf.keras.callbacks.Callback):\n",
        "    def __init__(self, each_epoch=5, *args, **kwargs):\n",
        "        super().__init__(*args, **kwargs)\n",
        "        self.logs = []\n",
        "        self.each_epoch = each_epoch\n",
        "    def on_epoch_end(self, epoch, logs):\n",
        "        self.logs.append(logs)\n",
        "        if epoch % self.each_epoch == 0:\n",
        "            clear_output()\n",
        "            print(f\"-- Epoch {epoch}\")\n",
        "            plt.figure(figsize=(12,5))\n",
        "            plt.subplot(121)\n",
        "            plt.plot([(l[\"pitch_loss\"], l[\"duration_loss\"]) for l in self.logs])\n",
        "            plt.legend(labels=(\"pitch\", \"duration\"))\n",
        "            plt.xlabel(\"Iterations\")\n",
        "            plt.ylabel(\"Loss\")\n",
        "            plt.subplot(122)\n",
        "            plt.plot([(l[\"pitch_acc\"], l[\"duration_acc\"]) for l in self.logs])\n",
        "            plt.legend(labels=(\"pitch\", \"duration\"))\n",
        "            plt.xlabel(\"Iterations\")\n",
        "            plt.ylabel(\"Accuracy\")\n",
        "            plt.show()"
      ],
      "execution_count": 17,
      "outputs": []
    },
    {
      "cell_type": "code",
      "metadata": {
        "colab": {
          "base_uri": "https://localhost:8080/",
          "height": 350
        },
        "id": "sziOfELeTzEN",
        "outputId": "67a7969a-2e96-4e64-a364-9529fc697b1e"
      },
      "source": [
        "model = build_model(rnn_units, filters, kernel_size, len(pitch_vocab), len(dur_vocab), emb_dim, None)\n",
        "\n",
        "model.compile(\n",
        "    optimizer=tf.keras.optimizers.Adam(learning_rate),\n",
        "    loss=tf.keras.losses.SparseCategoricalCrossentropy(from_logits=True),\n",
        "    metrics=[\"acc\"],\n",
        ");\n",
        "\n",
        "model.fit(\n",
        "    X, y,\n",
        "    epochs = num_training_iterations,\n",
        "    verbose = 0,\n",
        "    batch_size = batch_size,\n",
        "    callbacks = [\n",
        "        HistoryPlotter(),\n",
        "        tf.keras.callbacks.ModelCheckpoint(checkpoint_prefix, monitor=\"loss\", save_best_only=True, save_weights_only=True),\n",
        "    ]\n",
        ");"
      ],
      "execution_count": null,
      "outputs": [
        {
          "output_type": "stream",
          "name": "stdout",
          "text": [
            "-- Epoch 35\n"
          ]
        },
        {
          "output_type": "display_data",
          "data": {
            "image/png": "[encoded data removed]",
            "text/plain": [
              "<Figure size 864x360 with 2 Axes>"
            ]
          },
          "metadata": {
            "image/png": {
              "width": 720,
              "height": 316
            },
            "needs_background": "light"
          }
        }
      ]
    },
    {
      "cell_type": "markdown",
      "metadata": {
        "id": "Hz_VHvA69tcY"
      },
      "source": [
        "## Try to generate something"
      ]
    },
    {
      "cell_type": "markdown",
      "metadata": {
        "id": "ifynwObwhcHw"
      },
      "source": [
        "Reload model"
      ]
    },
    {
      "cell_type": "code",
      "metadata": {
        "id": "uJGKMk8d95DJ"
      },
      "source": [
        "model_gen = build_model(rnn_units, filters, kernel_size, len(pitch_vocab), len(dur_vocab), emb_dim, batch_size=None)\n",
        "model_gen.load_weights(checkpoint_prefix).expect_partial()\n",
        "model_gen.summary()"
      ],
      "execution_count": null,
      "outputs": []
    },
    {
      "cell_type": "markdown",
      "metadata": {
        "id": "udGEsISOhm2M"
      },
      "source": [
        "generate function"
      ]
    },
    {
      "cell_type": "code",
      "metadata": {
        "id": "g-H5PpI2hlsA"
      },
      "source": [
        "def generate_noteseq(model, start_vec=[[2,3]], generation_max_length=1000):\n",
        "    input_eval = tf.expand_dims(start_vec, 0)\n",
        "\n",
        "    generated = list(start_vec)\n",
        "    model.reset_states()\n",
        "\n",
        "    for i in tqdm(range(generation_max_length)):\n",
        "        p_pred, d_pred = model(tf.unstack(input_eval, axis=-1))\n",
        "        p_id = tf.random.categorical(p_pred[0], num_samples=1)[-1, 0].numpy()\n",
        "        d_id = tf.random.categorical(d_pred[0], num_samples=1)[-1, 0].numpy()\n",
        "        input_eval = tf.expand_dims([[p_id, d_id]], 0)\n",
        "        if p_id != 0 and d_id != 0:\n",
        "            generated.append([p_id, d_id])\n",
        "        else:\n",
        "            print(\"padding... skip\")\n",
        "            if p_id != d_id:\n",
        "                print(\"Pitch and duration don't agree on zero... interesting\")\n",
        "        \n",
        "    \n",
        "    return np.array(generated)"
      ],
      "execution_count": null,
      "outputs": []
    },
    {
      "cell_type": "markdown",
      "metadata": {
        "id": "I9h1qFDFiF_T"
      },
      "source": [
        "generate something and playback"
      ]
    },
    {
      "cell_type": "code",
      "metadata": {
        "id": "B-aqReKSiAQf"
      },
      "source": [
        "from IPython import display as ipythondisplay\n",
        "\n",
        "start_vec = tf.stack(X, axis=-1)[np.random.randint(0, len(X)), :1]\n",
        "#start_vec = np.random.randint(0, len(vocab), size=(4,))\n",
        "generated_vec = generate_noteseq(model_gen, start_vec=start_vec, generation_max_length=30)"
      ],
      "execution_count": null,
      "outputs": []
    },
    {
      "cell_type": "code",
      "metadata": {
        "id": "63FSh1YqG5-q"
      },
      "source": [
        "### Play back generated songs ###\n",
        "vec2mus(generated_vec).write(\"midi\", fp=\"hello.mid\")"
      ],
      "execution_count": null,
      "outputs": []
    },
    {
      "cell_type": "markdown",
      "metadata": {
        "id": "BiXwxq34T3hw"
      },
      "source": [
        "-----\n",
        "\n",
        "What we need to do:\n",
        "1. **dataset preparation**:\n",
        "  - ✅ remove pieces that are not 4/4\n",
        "  - ✅ transpose everything to C\n",
        "  - ✅ remove chords\n",
        "  - ✅ treat voices as distinct music pieces\n",
        "  - ✅ vectorize to `(pitch, duration)`\n",
        "2. **model**:\n",
        "  - use a 1D conv layer to detect melodic inflections\n",
        "  - ✅ use SLTM layer to learn long-term features\n",
        "  - ✅ train model using variable-length pieces (don't concatenate everything!)\n",
        "3. **generation**:\n",
        "  - generate several music pieces and pick only the interesting ones\n",
        "  - save generated pieces for interaction part (pre-generated music)"
      ]
    },
    {
      "cell_type": "markdown",
      "metadata": {
        "id": "8NLYZzjFB_ce"
      },
      "source": [
        "### Save model for tfjs"
      ]
    },
    {
      "cell_type": "code",
      "metadata": {
        "id": "Rqr6j4xfAd5_"
      },
      "source": [
        "!pip install tensorflowjs"
      ],
      "execution_count": null,
      "outputs": []
    },
    {
      "cell_type": "code",
      "metadata": {
        "id": "IV50FLDfCDCK"
      },
      "source": [
        "import tensorflowjs as tfjs\n",
        "\n",
        "tfjs.converters.save_keras_model(model_gen, \"tfjs/\")"
      ],
      "execution_count": null,
      "outputs": []
    },
    {
      "cell_type": "code",
      "metadata": {
        "id": "LiKGNX0xC-N7"
      },
      "source": [
        "!zip -r tfjs.zip tfjs"
      ],
      "execution_count": null,
      "outputs": []
    },
    {
      "cell_type": "code",
      "metadata": {
        "id": "OryrlqT8DWXQ"
      },
      "source": [
        "pitch_vocab"
      ],
      "execution_count": null,
      "outputs": []
    },
    {
      "cell_type": "code",
      "metadata": {
        "id": "WVBn4rbOW3uM"
      },
      "source": [
        "dur_vocab"
      ],
      "execution_count": null,
      "outputs": []
    },
    {
      "cell_type": "code",
      "metadata": {
        "id": "r5WysTh8W5cn"
      },
      "source": [
        "print(vec_songs[:, :1])"
      ],
      "execution_count": null,
      "outputs": []
    },
    {
      "cell_type": "code",
      "metadata": {
        "id": "bm0t87vWE9fd"
      },
      "source": [
        ""
      ],
      "execution_count": null,
      "outputs": []
    }
  ]
}